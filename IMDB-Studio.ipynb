{
  "metadata": {
    "kernelspec": {
      "name": "python",
      "display_name": "Python (Pyodide)",
      "language": "python"
    },
    "language_info": {
      "codemirror_mode": {
        "name": "python",
        "version": 3
      },
      "file_extension": ".py",
      "mimetype": "text/x-python",
      "name": "python",
      "nbconvert_exporter": "python",
      "pygments_lexer": "ipython3",
      "version": "3.8"
    }
  },
  "nbformat_minor": 5,
  "nbformat": 4,
  "cells": [
    {
      "cell_type": "markdown",
      "source": "# Exploratory Data Analysis part 1 Studio\n\n## Data Analysis of IMDB movies data\n\n#### The studio will continue working through the [\"A Comprehensive Guide To Data Analysis using Pandas: Hands-On Data Analysis on IMDB movies data\"](https://www.analyticsvidhya.com/blog/2021/05/a-comprehensive-guide-to-data-analysis-using-pandas-hands-on-data-analysis-on-imdb-movies-data/) in the **Data Analysis of IMDB movies data** section\n\n#### Blocks have been created for your code\n\n#### Follow the link in the article to download the dataset from [Kaggle](https://www.kaggle.com/PromptCloudHQ/imdb-data).  Link contained within the article.",
      "metadata": {
        "tags": []
      },
      "id": "2f470e67-1623-4416-b9c2-8367f7834a26"
    },
    {
      "cell_type": "markdown",
      "source": "### 1. Read data",
      "metadata": {},
      "id": "34632281-1e15-44b1-a3e3-b82ddacb5cbd"
    },
    {
      "cell_type": "code",
      "source": "# import pandas\nimport pandas as pd\n# create your data variabe using .read_csv \nmovies = pd.read_csv('IMDB-Movie-Data.csv')\n# create your data_indexed varialbe here\n",
      "metadata": {
        "trusted": true
      },
      "execution_count": 6,
      "outputs": [],
      "id": "070ebed9-c948-4821-9a24-67f0e3fe8fce"
    },
    {
      "cell_type": "code",
      "source": "# If you are having trouble reading your file, try finding the path.  \n    # Right click on your data set, on the pop-up menu select \"Copy Path\" then paste it into your read_csv() function.",
      "metadata": {
        "trusted": true
      },
      "execution_count": 4,
      "outputs": [],
      "id": "608c357a-271b-49c1-9b96-68b5c1cb7046"
    },
    {
      "cell_type": "code",
      "source": "# Read data with specified explicit index\nmovies_indexed = pd.read_csv('IMDB-Movie-Data.csv', index_col=\"Title\")\n\n\n#print(data_indexed)\nprint(movies_indexed)",
      "metadata": {
        "trusted": true
      },
      "execution_count": 8,
      "outputs": [
        {
          "name": "stdout",
          "text": "                         Rank                     Genre  \\\nTitle                                                     \nGuardians of the Galaxy     1   Action,Adventure,Sci-Fi   \nPrometheus                  2  Adventure,Mystery,Sci-Fi   \nSplit                       3           Horror,Thriller   \nSing                        4   Animation,Comedy,Family   \nSuicide Squad               5  Action,Adventure,Fantasy   \n...                       ...                       ...   \nSecret in Their Eyes      996       Crime,Drama,Mystery   \nHostel: Part II           997                    Horror   \nStep Up 2: The Streets    998       Drama,Music,Romance   \nSearch Party              999          Adventure,Comedy   \nNine Lives               1000     Comedy,Family,Fantasy   \n\n                                                               Description  \\\nTitle                                                                        \nGuardians of the Galaxy  A group of intergalactic criminals are forced ...   \nPrometheus               Following clues to the origin of mankind, a te...   \nSplit                    Three girls are kidnapped by a man with a diag...   \nSing                     In a city of humanoid animals, a hustling thea...   \nSuicide Squad            A secret government agency recruits some of th...   \n...                                                                    ...   \nSecret in Their Eyes     A tight-knit team of rising investigators, alo...   \nHostel: Part II          Three American college students studying abroa...   \nStep Up 2: The Streets   Romantic sparks occur between two dance studen...   \nSearch Party             A pair of friends embark on a mission to reuni...   \nNine Lives               A stuffy businessman finds himself trapped ins...   \n\n                                     Director  \\\nTitle                                           \nGuardians of the Galaxy            James Gunn   \nPrometheus                       Ridley Scott   \nSplit                      M. Night Shyamalan   \nSing                     Christophe Lourdelet   \nSuicide Squad                      David Ayer   \n...                                       ...   \nSecret in Their Eyes                Billy Ray   \nHostel: Part II                      Eli Roth   \nStep Up 2: The Streets             Jon M. Chu   \nSearch Party                   Scot Armstrong   \nNine Lives                   Barry Sonnenfeld   \n\n                                                                    Actors  \\\nTitle                                                                        \nGuardians of the Galaxy  Chris Pratt, Vin Diesel, Bradley Cooper, Zoe S...   \nPrometheus               Noomi Rapace, Logan Marshall-Green, Michael Fa...   \nSplit                    James McAvoy, Anya Taylor-Joy, Haley Lu Richar...   \nSing                     Matthew McConaughey,Reese Witherspoon, Seth Ma...   \nSuicide Squad            Will Smith, Jared Leto, Margot Robbie, Viola D...   \n...                                                                    ...   \nSecret in Their Eyes     Chiwetel Ejiofor, Nicole Kidman, Julia Roberts...   \nHostel: Part II          Lauren German, Heather Matarazzo, Bijou Philli...   \nStep Up 2: The Streets   Robert Hoffman, Briana Evigan, Cassie Ventura,...   \nSearch Party             Adam Pally, T.J. Miller, Thomas Middleditch,Sh...   \nNine Lives               Kevin Spacey, Jennifer Garner, Robbie Amell,Ch...   \n\n                         Year  Runtime (Minutes)  Rating   Votes  \\\nTitle                                                              \nGuardians of the Galaxy  2014                121     8.1  757074   \nPrometheus               2012                124     7.0  485820   \nSplit                    2016                117     7.3  157606   \nSing                     2016                108     7.2   60545   \nSuicide Squad            2016                123     6.2  393727   \n...                       ...                ...     ...     ...   \nSecret in Their Eyes     2015                111     6.2   27585   \nHostel: Part II          2007                 94     5.5   73152   \nStep Up 2: The Streets   2008                 98     6.2   70699   \nSearch Party             2014                 93     5.6    4881   \nNine Lives               2016                 87     5.3   12435   \n\n                         Revenue (Millions)  Metascore  \nTitle                                                   \nGuardians of the Galaxy              333.13       76.0  \nPrometheus                           126.46       65.0  \nSplit                                138.12       62.0  \nSing                                 270.32       59.0  \nSuicide Squad                        325.02       40.0  \n...                                     ...        ...  \nSecret in Their Eyes                    NaN       45.0  \nHostel: Part II                       17.54       46.0  \nStep Up 2: The Streets                58.01       50.0  \nSearch Party                            NaN       22.0  \nNine Lives                            19.64       11.0  \n\n[1000 rows x 11 columns]\n",
          "output_type": "stream"
        }
      ],
      "id": "5d8b578c-750c-491b-98d5-140a237ad940"
    },
    {
      "cell_type": "markdown",
      "source": "### 2. View Data\n#### As we go through this section, write your own definitions of what each function does as a comment in the code box.",
      "metadata": {
        "tags": []
      },
      "id": "f449d3ea-91fe-45f5-8d6b-e6ccab3502d7"
    },
    {
      "cell_type": "code",
      "source": "# Use the head() function to view the first 5 rows of the data set\n\nmovies.head()",
      "metadata": {
        "trusted": true
      },
      "execution_count": 9,
      "outputs": [
        {
          "execution_count": 9,
          "output_type": "execute_result",
          "data": {
            "text/plain": "   Rank                    Title                     Genre  \\\n0     1  Guardians of the Galaxy   Action,Adventure,Sci-Fi   \n1     2               Prometheus  Adventure,Mystery,Sci-Fi   \n2     3                    Split           Horror,Thriller   \n3     4                     Sing   Animation,Comedy,Family   \n4     5            Suicide Squad  Action,Adventure,Fantasy   \n\n                                         Description              Director  \\\n0  A group of intergalactic criminals are forced ...            James Gunn   \n1  Following clues to the origin of mankind, a te...          Ridley Scott   \n2  Three girls are kidnapped by a man with a diag...    M. Night Shyamalan   \n3  In a city of humanoid animals, a hustling thea...  Christophe Lourdelet   \n4  A secret government agency recruits some of th...            David Ayer   \n\n                                              Actors  Year  Runtime (Minutes)  \\\n0  Chris Pratt, Vin Diesel, Bradley Cooper, Zoe S...  2014                121   \n1  Noomi Rapace, Logan Marshall-Green, Michael Fa...  2012                124   \n2  James McAvoy, Anya Taylor-Joy, Haley Lu Richar...  2016                117   \n3  Matthew McConaughey,Reese Witherspoon, Seth Ma...  2016                108   \n4  Will Smith, Jared Leto, Margot Robbie, Viola D...  2016                123   \n\n   Rating   Votes  Revenue (Millions)  Metascore  \n0     8.1  757074              333.13       76.0  \n1     7.0  485820              126.46       65.0  \n2     7.3  157606              138.12       62.0  \n3     7.2   60545              270.32       59.0  \n4     6.2  393727              325.02       40.0  ",
            "text/html": "<div>\n<style scoped>\n    .dataframe tbody tr th:only-of-type {\n        vertical-align: middle;\n    }\n\n    .dataframe tbody tr th {\n        vertical-align: top;\n    }\n\n    .dataframe thead th {\n        text-align: right;\n    }\n</style>\n<table border=\"1\" class=\"dataframe\">\n  <thead>\n    <tr style=\"text-align: right;\">\n      <th></th>\n      <th>Rank</th>\n      <th>Title</th>\n      <th>Genre</th>\n      <th>Description</th>\n      <th>Director</th>\n      <th>Actors</th>\n      <th>Year</th>\n      <th>Runtime (Minutes)</th>\n      <th>Rating</th>\n      <th>Votes</th>\n      <th>Revenue (Millions)</th>\n      <th>Metascore</th>\n    </tr>\n  </thead>\n  <tbody>\n    <tr>\n      <th>0</th>\n      <td>1</td>\n      <td>Guardians of the Galaxy</td>\n      <td>Action,Adventure,Sci-Fi</td>\n      <td>A group of intergalactic criminals are forced ...</td>\n      <td>James Gunn</td>\n      <td>Chris Pratt, Vin Diesel, Bradley Cooper, Zoe S...</td>\n      <td>2014</td>\n      <td>121</td>\n      <td>8.1</td>\n      <td>757074</td>\n      <td>333.13</td>\n      <td>76.0</td>\n    </tr>\n    <tr>\n      <th>1</th>\n      <td>2</td>\n      <td>Prometheus</td>\n      <td>Adventure,Mystery,Sci-Fi</td>\n      <td>Following clues to the origin of mankind, a te...</td>\n      <td>Ridley Scott</td>\n      <td>Noomi Rapace, Logan Marshall-Green, Michael Fa...</td>\n      <td>2012</td>\n      <td>124</td>\n      <td>7.0</td>\n      <td>485820</td>\n      <td>126.46</td>\n      <td>65.0</td>\n    </tr>\n    <tr>\n      <th>2</th>\n      <td>3</td>\n      <td>Split</td>\n      <td>Horror,Thriller</td>\n      <td>Three girls are kidnapped by a man with a diag...</td>\n      <td>M. Night Shyamalan</td>\n      <td>James McAvoy, Anya Taylor-Joy, Haley Lu Richar...</td>\n      <td>2016</td>\n      <td>117</td>\n      <td>7.3</td>\n      <td>157606</td>\n      <td>138.12</td>\n      <td>62.0</td>\n    </tr>\n    <tr>\n      <th>3</th>\n      <td>4</td>\n      <td>Sing</td>\n      <td>Animation,Comedy,Family</td>\n      <td>In a city of humanoid animals, a hustling thea...</td>\n      <td>Christophe Lourdelet</td>\n      <td>Matthew McConaughey,Reese Witherspoon, Seth Ma...</td>\n      <td>2016</td>\n      <td>108</td>\n      <td>7.2</td>\n      <td>60545</td>\n      <td>270.32</td>\n      <td>59.0</td>\n    </tr>\n    <tr>\n      <th>4</th>\n      <td>5</td>\n      <td>Suicide Squad</td>\n      <td>Action,Adventure,Fantasy</td>\n      <td>A secret government agency recruits some of th...</td>\n      <td>David Ayer</td>\n      <td>Will Smith, Jared Leto, Margot Robbie, Viola D...</td>\n      <td>2016</td>\n      <td>123</td>\n      <td>6.2</td>\n      <td>393727</td>\n      <td>325.02</td>\n      <td>40.0</td>\n    </tr>\n  </tbody>\n</table>\n</div>"
          },
          "metadata": {}
        }
      ],
      "id": "ac9b2d61-7ed5-4e83-995d-c498036f37f9"
    },
    {
      "cell_type": "code",
      "source": "# Use the tail() function to view the last 5 rows of the data set\n\nmovies.tail()",
      "metadata": {
        "trusted": true
      },
      "execution_count": 10,
      "outputs": [
        {
          "execution_count": 10,
          "output_type": "execute_result",
          "data": {
            "text/plain": "     Rank                   Title                  Genre  \\\n995   996    Secret in Their Eyes    Crime,Drama,Mystery   \n996   997         Hostel: Part II                 Horror   \n997   998  Step Up 2: The Streets    Drama,Music,Romance   \n998   999            Search Party       Adventure,Comedy   \n999  1000              Nine Lives  Comedy,Family,Fantasy   \n\n                                           Description          Director  \\\n995  A tight-knit team of rising investigators, alo...         Billy Ray   \n996  Three American college students studying abroa...          Eli Roth   \n997  Romantic sparks occur between two dance studen...        Jon M. Chu   \n998  A pair of friends embark on a mission to reuni...    Scot Armstrong   \n999  A stuffy businessman finds himself trapped ins...  Barry Sonnenfeld   \n\n                                                Actors  Year  \\\n995  Chiwetel Ejiofor, Nicole Kidman, Julia Roberts...  2015   \n996  Lauren German, Heather Matarazzo, Bijou Philli...  2007   \n997  Robert Hoffman, Briana Evigan, Cassie Ventura,...  2008   \n998  Adam Pally, T.J. Miller, Thomas Middleditch,Sh...  2014   \n999  Kevin Spacey, Jennifer Garner, Robbie Amell,Ch...  2016   \n\n     Runtime (Minutes)  Rating  Votes  Revenue (Millions)  Metascore  \n995                111     6.2  27585                 NaN       45.0  \n996                 94     5.5  73152               17.54       46.0  \n997                 98     6.2  70699               58.01       50.0  \n998                 93     5.6   4881                 NaN       22.0  \n999                 87     5.3  12435               19.64       11.0  ",
            "text/html": "<div>\n<style scoped>\n    .dataframe tbody tr th:only-of-type {\n        vertical-align: middle;\n    }\n\n    .dataframe tbody tr th {\n        vertical-align: top;\n    }\n\n    .dataframe thead th {\n        text-align: right;\n    }\n</style>\n<table border=\"1\" class=\"dataframe\">\n  <thead>\n    <tr style=\"text-align: right;\">\n      <th></th>\n      <th>Rank</th>\n      <th>Title</th>\n      <th>Genre</th>\n      <th>Description</th>\n      <th>Director</th>\n      <th>Actors</th>\n      <th>Year</th>\n      <th>Runtime (Minutes)</th>\n      <th>Rating</th>\n      <th>Votes</th>\n      <th>Revenue (Millions)</th>\n      <th>Metascore</th>\n    </tr>\n  </thead>\n  <tbody>\n    <tr>\n      <th>995</th>\n      <td>996</td>\n      <td>Secret in Their Eyes</td>\n      <td>Crime,Drama,Mystery</td>\n      <td>A tight-knit team of rising investigators, alo...</td>\n      <td>Billy Ray</td>\n      <td>Chiwetel Ejiofor, Nicole Kidman, Julia Roberts...</td>\n      <td>2015</td>\n      <td>111</td>\n      <td>6.2</td>\n      <td>27585</td>\n      <td>NaN</td>\n      <td>45.0</td>\n    </tr>\n    <tr>\n      <th>996</th>\n      <td>997</td>\n      <td>Hostel: Part II</td>\n      <td>Horror</td>\n      <td>Three American college students studying abroa...</td>\n      <td>Eli Roth</td>\n      <td>Lauren German, Heather Matarazzo, Bijou Philli...</td>\n      <td>2007</td>\n      <td>94</td>\n      <td>5.5</td>\n      <td>73152</td>\n      <td>17.54</td>\n      <td>46.0</td>\n    </tr>\n    <tr>\n      <th>997</th>\n      <td>998</td>\n      <td>Step Up 2: The Streets</td>\n      <td>Drama,Music,Romance</td>\n      <td>Romantic sparks occur between two dance studen...</td>\n      <td>Jon M. Chu</td>\n      <td>Robert Hoffman, Briana Evigan, Cassie Ventura,...</td>\n      <td>2008</td>\n      <td>98</td>\n      <td>6.2</td>\n      <td>70699</td>\n      <td>58.01</td>\n      <td>50.0</td>\n    </tr>\n    <tr>\n      <th>998</th>\n      <td>999</td>\n      <td>Search Party</td>\n      <td>Adventure,Comedy</td>\n      <td>A pair of friends embark on a mission to reuni...</td>\n      <td>Scot Armstrong</td>\n      <td>Adam Pally, T.J. Miller, Thomas Middleditch,Sh...</td>\n      <td>2014</td>\n      <td>93</td>\n      <td>5.6</td>\n      <td>4881</td>\n      <td>NaN</td>\n      <td>22.0</td>\n    </tr>\n    <tr>\n      <th>999</th>\n      <td>1000</td>\n      <td>Nine Lives</td>\n      <td>Comedy,Family,Fantasy</td>\n      <td>A stuffy businessman finds himself trapped ins...</td>\n      <td>Barry Sonnenfeld</td>\n      <td>Kevin Spacey, Jennifer Garner, Robbie Amell,Ch...</td>\n      <td>2016</td>\n      <td>87</td>\n      <td>5.3</td>\n      <td>12435</td>\n      <td>19.64</td>\n      <td>11.0</td>\n    </tr>\n  </tbody>\n</table>\n</div>"
          },
          "metadata": {}
        }
      ],
      "id": "3fffca4b-90f4-4f73-a9af-f0b02886f8b3"
    },
    {
      "cell_type": "markdown",
      "source": "### 3. Understand basic information about the data\n#### As we go through this section, write your own definitions of what each function does as a comment in the code box.",
      "metadata": {},
      "id": "e03bbc57-a8cf-48da-9057-3b1f6b642a08"
    },
    {
      "cell_type": "code",
      "source": "# The info() function: \n\n# give basic info about the dataset, including number of entries, names of columns, how many entries in each column are not null, data types, etc. ",
      "metadata": {
        "trusted": true
      },
      "execution_count": 11,
      "outputs": [],
      "id": "f303e7fb-0e02-48e2-8390-66eefca899aa"
    },
    {
      "cell_type": "code",
      "source": "# shape:\n\n\n# what information does shape provide?  what is the order?\n# number of rows and columns (in that order), formatted as (#rows, #columns)",
      "metadata": {},
      "execution_count": null,
      "outputs": [],
      "id": "ade5ce1f-7a2a-4940-a0f9-eed7891154ff"
    },
    {
      "cell_type": "code",
      "source": "# columns:\n\n\n# what information does columns provide?\n# list of columns in data set",
      "metadata": {},
      "execution_count": null,
      "outputs": [],
      "id": "791db782-5041-4259-a3e4-d14c6e2e248a"
    },
    {
      "cell_type": "code",
      "source": "# The describe() function: \n# gives basic descriptive statistics of the data set: count, min and max, mean, standard deviation, etc.\n",
      "metadata": {},
      "execution_count": null,
      "outputs": [],
      "id": "994c8783-3f4b-4f56-b9fb-1b50193f1fab"
    },
    {
      "cell_type": "markdown",
      "source": "### 4. Data Selection -- Indexing and Slicing",
      "metadata": {},
      "id": "7293ea51-6d32-43ab-8d26-268bdea21de1"
    },
    {
      "cell_type": "code",
      "source": "#  Extract data as series\n# define and print the variable 'genre'\n\ngenre = movies['Genre']\ngenre",
      "metadata": {
        "trusted": true
      },
      "execution_count": 17,
      "outputs": [
        {
          "execution_count": 17,
          "output_type": "execute_result",
          "data": {
            "text/plain": "0       Action,Adventure,Sci-Fi\n1      Adventure,Mystery,Sci-Fi\n2               Horror,Thriller\n3       Animation,Comedy,Family\n4      Action,Adventure,Fantasy\n                 ...           \n995         Crime,Drama,Mystery\n996                      Horror\n997         Drama,Music,Romance\n998            Adventure,Comedy\n999       Comedy,Family,Fantasy\nName: Genre, Length: 1000, dtype: object"
          },
          "metadata": {}
        }
      ],
      "id": "b3e134af-4ef9-4a9f-9ee1-d507905764e7"
    },
    {
      "cell_type": "code",
      "source": "# Extract the data as a dataframe and print it\n\ngenre_dataframe = movies[['Genre']]\ngenre_dataframe",
      "metadata": {
        "trusted": true
      },
      "execution_count": 16,
      "outputs": [
        {
          "execution_count": 16,
          "output_type": "execute_result",
          "data": {
            "text/plain": "                        Genre\n0     Action,Adventure,Sci-Fi\n1    Adventure,Mystery,Sci-Fi\n2             Horror,Thriller\n3     Animation,Comedy,Family\n4    Action,Adventure,Fantasy\n..                        ...\n995       Crime,Drama,Mystery\n996                    Horror\n997       Drama,Music,Romance\n998          Adventure,Comedy\n999     Comedy,Family,Fantasy\n\n[1000 rows x 1 columns]",
            "text/html": "<div>\n<style scoped>\n    .dataframe tbody tr th:only-of-type {\n        vertical-align: middle;\n    }\n\n    .dataframe tbody tr th {\n        vertical-align: top;\n    }\n\n    .dataframe thead th {\n        text-align: right;\n    }\n</style>\n<table border=\"1\" class=\"dataframe\">\n  <thead>\n    <tr style=\"text-align: right;\">\n      <th></th>\n      <th>Genre</th>\n    </tr>\n  </thead>\n  <tbody>\n    <tr>\n      <th>0</th>\n      <td>Action,Adventure,Sci-Fi</td>\n    </tr>\n    <tr>\n      <th>1</th>\n      <td>Adventure,Mystery,Sci-Fi</td>\n    </tr>\n    <tr>\n      <th>2</th>\n      <td>Horror,Thriller</td>\n    </tr>\n    <tr>\n      <th>3</th>\n      <td>Animation,Comedy,Family</td>\n    </tr>\n    <tr>\n      <th>4</th>\n      <td>Action,Adventure,Fantasy</td>\n    </tr>\n    <tr>\n      <th>...</th>\n      <td>...</td>\n    </tr>\n    <tr>\n      <th>995</th>\n      <td>Crime,Drama,Mystery</td>\n    </tr>\n    <tr>\n      <th>996</th>\n      <td>Horror</td>\n    </tr>\n    <tr>\n      <th>997</th>\n      <td>Drama,Music,Romance</td>\n    </tr>\n    <tr>\n      <th>998</th>\n      <td>Adventure,Comedy</td>\n    </tr>\n    <tr>\n      <th>999</th>\n      <td>Comedy,Family,Fantasy</td>\n    </tr>\n  </tbody>\n</table>\n<p>1000 rows × 1 columns</p>\n</div>"
          },
          "metadata": {}
        }
      ],
      "id": "33307a39-0656-4598-8489-55bc80a253eb"
    },
    {
      "cell_type": "code",
      "source": "# Extract data using rows\n\n# loc function\n\nSuicide_Squad = movies_indexed.loc[['Suicide Squad']][['Genre','Actors','Director','Rating','Revenue (Millions)']]\n\nSuicide_Squad",
      "metadata": {
        "trusted": true
      },
      "execution_count": 18,
      "outputs": [
        {
          "execution_count": 18,
          "output_type": "execute_result",
          "data": {
            "text/plain": "                                  Genre  \\\nTitle                                     \nSuicide Squad  Action,Adventure,Fantasy   \n\n                                                          Actors    Director  \\\nTitle                                                                          \nSuicide Squad  Will Smith, Jared Leto, Margot Robbie, Viola D...  David Ayer   \n\n               Rating  Revenue (Millions)  \nTitle                                      \nSuicide Squad     6.2              325.02  ",
            "text/html": "<div>\n<style scoped>\n    .dataframe tbody tr th:only-of-type {\n        vertical-align: middle;\n    }\n\n    .dataframe tbody tr th {\n        vertical-align: top;\n    }\n\n    .dataframe thead th {\n        text-align: right;\n    }\n</style>\n<table border=\"1\" class=\"dataframe\">\n  <thead>\n    <tr style=\"text-align: right;\">\n      <th></th>\n      <th>Genre</th>\n      <th>Actors</th>\n      <th>Director</th>\n      <th>Rating</th>\n      <th>Revenue (Millions)</th>\n    </tr>\n    <tr>\n      <th>Title</th>\n      <th></th>\n      <th></th>\n      <th></th>\n      <th></th>\n      <th></th>\n    </tr>\n  </thead>\n  <tbody>\n    <tr>\n      <th>Suicide Squad</th>\n      <td>Action,Adventure,Fantasy</td>\n      <td>Will Smith, Jared Leto, Margot Robbie, Viola D...</td>\n      <td>David Ayer</td>\n      <td>6.2</td>\n      <td>325.02</td>\n    </tr>\n  </tbody>\n</table>\n</div>"
          },
          "metadata": {}
        }
      ],
      "id": "0530ffd1-e143-4a7a-a4e2-c2e88de188f9"
    },
    {
      "cell_type": "code",
      "source": "# iloc function\n\nrank_20_24 = movies.iloc[19:23][['Rank','Title','Genre','Rating']]\nrank_20_24",
      "metadata": {
        "trusted": true
      },
      "execution_count": 22,
      "outputs": [
        {
          "execution_count": 22,
          "output_type": "execute_result",
          "data": {
            "text/plain": "    Rank                  Title                     Genre  Rating\n19    20                Arrival      Drama,Mystery,Sci-Fi     8.0\n20    21                   Gold  Adventure,Drama,Thriller     6.7\n21    22  Manchester by the Sea                     Drama     7.9\n22    23         Hounds of Love        Crime,Drama,Horror     6.7",
            "text/html": "<div>\n<style scoped>\n    .dataframe tbody tr th:only-of-type {\n        vertical-align: middle;\n    }\n\n    .dataframe tbody tr th {\n        vertical-align: top;\n    }\n\n    .dataframe thead th {\n        text-align: right;\n    }\n</style>\n<table border=\"1\" class=\"dataframe\">\n  <thead>\n    <tr style=\"text-align: right;\">\n      <th></th>\n      <th>Rank</th>\n      <th>Title</th>\n      <th>Genre</th>\n      <th>Rating</th>\n    </tr>\n  </thead>\n  <tbody>\n    <tr>\n      <th>19</th>\n      <td>20</td>\n      <td>Arrival</td>\n      <td>Drama,Mystery,Sci-Fi</td>\n      <td>8.0</td>\n    </tr>\n    <tr>\n      <th>20</th>\n      <td>21</td>\n      <td>Gold</td>\n      <td>Adventure,Drama,Thriller</td>\n      <td>6.7</td>\n    </tr>\n    <tr>\n      <th>21</th>\n      <td>22</td>\n      <td>Manchester by the Sea</td>\n      <td>Drama</td>\n      <td>7.9</td>\n    </tr>\n    <tr>\n      <th>22</th>\n      <td>23</td>\n      <td>Hounds of Love</td>\n      <td>Crime,Drama,Horror</td>\n      <td>6.7</td>\n    </tr>\n  </tbody>\n</table>\n</div>"
          },
          "metadata": {}
        }
      ],
      "id": "7ed5a16d-7302-4c0c-bf9e-0295a8cee090"
    },
    {
      "cell_type": "markdown",
      "source": "### 5. Data Selection - Based on Conditional Filtering",
      "metadata": {},
      "id": "35d10282-730f-49c3-bca1-55a990811c80"
    },
    {
      "cell_type": "code",
      "source": "# Use the code block to select movies that have been release between 2010-2016, with a rating of less than 6.0, but generated a signifianct (top) revenue.\n\nmovies[((movies['Year'] >= 2010) & (movies['Year'] <= 2016))\n      & (movies['Rating'] < 6.0)\n      & (movies['Revenue (Millions)'] > movies['Revenue (Millions)'].quantile(0.90))]",
      "metadata": {
        "trusted": true
      },
      "execution_count": 26,
      "outputs": [
        {
          "execution_count": 26,
          "output_type": "execute_result",
          "data": {
            "text/plain": "     Rank                                      Title                    Genre  \\\n126   127            Transformers: Age of Extinction  Action,Adventure,Sci-Fi   \n366   367  The Twilight Saga: Breaking Dawn - Part 2  Adventure,Drama,Fantasy   \n925   926  The Twilight Saga: Breaking Dawn - Part 1  Adventure,Drama,Fantasy   \n941   942                 The Twilight Saga: Eclipse  Adventure,Drama,Fantasy   \n\n                                           Description     Director  \\\n126  Autobots must escape sight from a bounty hunte...  Michael Bay   \n366  After the birth of Renesmee, the Cullens gathe...  Bill Condon   \n925  The Quileutes close in on expecting parents Ed...  Bill Condon   \n941  As a string of mysterious killings grips Seatt...  David Slade   \n\n                                                Actors  Year  \\\n126  Mark Wahlberg, Nicola Peltz, Jack Reynor, Stan...  2014   \n366  Kristen Stewart, Robert Pattinson, Taylor Laut...  2012   \n925  Kristen Stewart, Robert Pattinson, Taylor Laut...  2011   \n941  Kristen Stewart, Robert Pattinson, Taylor Laut...  2010   \n\n     Runtime (Minutes)  Rating   Votes  Revenue (Millions)  Metascore  \n126                165     5.7  255483              245.43       32.0  \n366                115     5.5  194329              292.30       52.0  \n925                117     4.9  190244              281.28       45.0  \n941                124     4.9  192740              300.52       58.0  ",
            "text/html": "<div>\n<style scoped>\n    .dataframe tbody tr th:only-of-type {\n        vertical-align: middle;\n    }\n\n    .dataframe tbody tr th {\n        vertical-align: top;\n    }\n\n    .dataframe thead th {\n        text-align: right;\n    }\n</style>\n<table border=\"1\" class=\"dataframe\">\n  <thead>\n    <tr style=\"text-align: right;\">\n      <th></th>\n      <th>Rank</th>\n      <th>Title</th>\n      <th>Genre</th>\n      <th>Description</th>\n      <th>Director</th>\n      <th>Actors</th>\n      <th>Year</th>\n      <th>Runtime (Minutes)</th>\n      <th>Rating</th>\n      <th>Votes</th>\n      <th>Revenue (Millions)</th>\n      <th>Metascore</th>\n    </tr>\n  </thead>\n  <tbody>\n    <tr>\n      <th>126</th>\n      <td>127</td>\n      <td>Transformers: Age of Extinction</td>\n      <td>Action,Adventure,Sci-Fi</td>\n      <td>Autobots must escape sight from a bounty hunte...</td>\n      <td>Michael Bay</td>\n      <td>Mark Wahlberg, Nicola Peltz, Jack Reynor, Stan...</td>\n      <td>2014</td>\n      <td>165</td>\n      <td>5.7</td>\n      <td>255483</td>\n      <td>245.43</td>\n      <td>32.0</td>\n    </tr>\n    <tr>\n      <th>366</th>\n      <td>367</td>\n      <td>The Twilight Saga: Breaking Dawn - Part 2</td>\n      <td>Adventure,Drama,Fantasy</td>\n      <td>After the birth of Renesmee, the Cullens gathe...</td>\n      <td>Bill Condon</td>\n      <td>Kristen Stewart, Robert Pattinson, Taylor Laut...</td>\n      <td>2012</td>\n      <td>115</td>\n      <td>5.5</td>\n      <td>194329</td>\n      <td>292.30</td>\n      <td>52.0</td>\n    </tr>\n    <tr>\n      <th>925</th>\n      <td>926</td>\n      <td>The Twilight Saga: Breaking Dawn - Part 1</td>\n      <td>Adventure,Drama,Fantasy</td>\n      <td>The Quileutes close in on expecting parents Ed...</td>\n      <td>Bill Condon</td>\n      <td>Kristen Stewart, Robert Pattinson, Taylor Laut...</td>\n      <td>2011</td>\n      <td>117</td>\n      <td>4.9</td>\n      <td>190244</td>\n      <td>281.28</td>\n      <td>45.0</td>\n    </tr>\n    <tr>\n      <th>941</th>\n      <td>942</td>\n      <td>The Twilight Saga: Eclipse</td>\n      <td>Adventure,Drama,Fantasy</td>\n      <td>As a string of mysterious killings grips Seatt...</td>\n      <td>David Slade</td>\n      <td>Kristen Stewart, Robert Pattinson, Taylor Laut...</td>\n      <td>2010</td>\n      <td>124</td>\n      <td>4.9</td>\n      <td>192740</td>\n      <td>300.52</td>\n      <td>58.0</td>\n    </tr>\n  </tbody>\n</table>\n</div>"
          },
          "metadata": {}
        }
      ],
      "id": "97cac6a1-dd88-4a8c-86e8-514312bf1bb0"
    },
    {
      "cell_type": "code",
      "source": "# Note: The article is expecting more than 1 Twilight movie at the time of publishing.  \n#To find the second Twilight movie, try manipulating the quantile value.  \n#How specific can you get?",
      "metadata": {},
      "execution_count": 117,
      "outputs": [],
      "id": "f0c045a1-200a-4d58-9b9f-480edb106765"
    },
    {
      "cell_type": "code",
      "source": "",
      "metadata": {},
      "execution_count": null,
      "outputs": [],
      "id": "5f04a46e-5d8e-4bda-a917-945bdc81a9e2"
    },
    {
      "cell_type": "code",
      "source": "",
      "metadata": {},
      "execution_count": null,
      "outputs": [],
      "id": "54025298-18cd-410c-ba24-fa614d3ce415"
    }
  ]
}